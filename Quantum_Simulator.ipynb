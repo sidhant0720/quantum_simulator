{
 "cells": [
  {
   "cell_type": "markdown",
   "metadata": {},
   "source": [
    "<h1>Quantum Simualtor</h1>"
   ]
  },
  {
   "cell_type": "markdown",
   "metadata": {},
   "source": [
    "<h2>A Quantum computer simulator with support of upto 3 qbits</h2>"
   ]
  },
  {
   "cell_type": "code",
   "execution_count": 1,
   "metadata": {},
   "outputs": [],
   "source": [
    "import numpy as np\n",
    "import random"
   ]
  },
  {
   "cell_type": "code",
   "execution_count": 2,
   "metadata": {},
   "outputs": [],
   "source": [
    "def get_ground_state(num_qubits):\n",
    "    # returns vector of size 2**num_qubits with all zeroes except first element which is 1\n",
    "    ground_state_vector = [0]*2**num_qubits\n",
    "    ground_state_vector[0]=1 \n",
    "    \n",
    "    return ground_state_vector"
   ]
  },
  {
   "cell_type": "code",
   "execution_count": 15,
   "metadata": {},
   "outputs": [],
   "source": [
    "def get_operator(total_qubits, gate_unitary, target_qubits):\n",
    "    # return unitary operator of size 2**n x 2**n for given gate and target qubits\n",
    "    \n",
    "    # unitary gates --> \n",
    "    I = np.identity(2)\n",
    "    H = np.array([[1/np.sqrt(2), 1/np.sqrt(2)],[1/np.sqrt(2), -1/np.sqrt(2)]])\n",
    "    X = np.array([[0, 1],[1, 0]])\n",
    "    P0x0 = np.array([[1, 0],[0, 0]])\n",
    "    P1x1 = np.array([[0, 0],[0, 1]])\n",
    "    CNOT = np.array([[1,0,0,0],[0,1,0,0],[0,0,0,1],[0,0,1,0]])\n",
    "    \n",
    "\n",
    "    \n",
    "    # Initilized H gate \n",
    "    if gate_unitary==\"h\":\n",
    "        if 0 in target_qubits:\n",
    "            gate = H\n",
    "        else:\n",
    "            gate = I\n",
    "        if gate_unitary==\"h\":\n",
    "            for i in range(1,total_qubits):\n",
    "                if i in target_qubits:\n",
    "                    gate = np.kron(gate,H)\n",
    "                else:\n",
    "                    gate = np.kron(gate,I)\n",
    "                    \n",
    "    elif gate_unitary == 'cx' and total_qubits==2:\n",
    "        gate = CNOT\n",
    "    \n",
    "    elif gate_unitary == \"cx\" and total_qubits==3:\n",
    "        if target_qubits == [0,1]:\n",
    "            gate = np.kron(CNOT,I)\n",
    "        elif target_qubits == [1,2]:\n",
    "            gate = np.kron(I,CNOT)\n",
    "        elif target_qubits == [1,3]:\n",
    "            gate = np.kron(np.kron(P0x0, I), I) + np.kron(np.kron(P1x1, I), X)\n",
    "            \n",
    "    return gate\n"
   ]
  },
  {
   "cell_type": "code",
   "execution_count": 21,
   "metadata": {},
   "outputs": [],
   "source": [
    "def run_program(initial_state, program):\n",
    "    # read program, and for each gate:\n",
    "    #   - calculate matrix operator\n",
    "    #   - multiply state with operator\n",
    "    # return final state\n",
    "    \n",
    "    steps= len(program)\n",
    "    num_qbits = int(np.log2(len(initial_state)))\n",
    "    current_state=initial_state\n",
    "    for i in range(steps):\n",
    "        current_state = np.dot(current_state,get_operator(num_qbits,program[i][\"gate\"],program[i][\"target\"]))\n",
    "    print(current_state)\n",
    "    return current_state\n"
   ]
  },
  {
   "cell_type": "code",
   "execution_count": 6,
   "metadata": {},
   "outputs": [],
   "source": [
    "def measure_all(state_vector):\n",
    "    \n",
    "    num_vector = len(state_vector)\n",
    "    \n",
    "    if num_vector == 2:\n",
    "        states = ['0','1']\n",
    "    elif num_vector==4:\n",
    "        states = ['00','01','10','11']\n",
    "    elif num_vector == 8:\n",
    "        states = ['000','001','010','011','100','101','110','111']\n",
    "    else:\n",
    "        print(\"invalid state vector: number of qbits might exceed 3\")\n",
    "\n",
    "    choosen = random.choices(states, weights=np.abs(state_vector)**2,  k=1)\n",
    "    return choosen"
   ]
  },
  {
   "cell_type": "code",
   "execution_count": 7,
   "metadata": {},
   "outputs": [],
   "source": [
    "def get_counts(state_vector, num_shots):\n",
    "\n",
    "    num_vector = len(state_vector)\n",
    "\n",
    "    if num_vector == 2:\n",
    "        counts = {'0':0,'1':0}\n",
    "    elif num_vector==4:\n",
    "        counts = {'00':0,'01':0,'10':0,'11':0}\n",
    "    elif num_vector == 8:\n",
    "        counts = {'000':0,'001':0,'010':0,'011':0,'100':0,'101':0,'110':0,'111':0}\n",
    "    else:\n",
    "        print(\"invalid state vector: number of qbits might exceed 3\")\n",
    "\n",
    "    for i in range(num_shots):\n",
    "        a = measure_all(state_vector)\n",
    "        counts[a[0]] = counts[a[0]]+1\n",
    "        \n",
    "    \n",
    "    \n",
    "    \n",
    "    return counts"
   ]
  },
  {
   "cell_type": "code",
   "execution_count": 18,
   "metadata": {},
   "outputs": [],
   "source": [
    "my_circuit = [\n",
    "{ \"gate\": \"h\", \"target\": [0] }, \n",
    "{ \"gate\": \"cx\", \"target\": [0, 1] }\n",
    "]"
   ]
  },
  {
   "cell_type": "code",
   "execution_count": 22,
   "metadata": {},
   "outputs": [
    {
     "name": "stdout",
     "output_type": "stream",
     "text": [
      "[0.70710678 0.         0.         0.         0.         0.\n",
      " 0.70710678 0.        ]\n",
      "{'000': 488, '001': 0, '010': 0, '011': 0, '100': 0, '101': 0, '110': 512, '111': 0}\n"
     ]
    }
   ],
   "source": [
    "# Create \"quantum computer\" with 2 qubits (this is actually just a vector :) )\n",
    "\n",
    "my_qpu = get_ground_state(3)\n",
    "\n",
    "\n",
    "# Run circuit\n",
    "\n",
    "final_state = run_program(my_qpu, my_circuit)\n",
    "\n",
    "\n",
    "# Read results\n",
    "\n",
    "counts = get_counts(final_state, 1000)\n",
    "\n",
    "print(counts)"
   ]
  },
  {
   "cell_type": "code",
   "execution_count": 20,
   "metadata": {},
   "outputs": [
    {
     "ename": "NameError",
     "evalue": "name 'current_state' is not defined",
     "output_type": "error",
     "traceback": [
      "\u001b[0;31m---------------------------------------------------------------------------\u001b[0m",
      "\u001b[0;31mNameError\u001b[0m                                 Traceback (most recent call last)",
      "\u001b[0;32m<ipython-input-20-f0d3963eaeb4>\u001b[0m in \u001b[0;36m<module>\u001b[0;34m\u001b[0m\n\u001b[0;32m----> 1\u001b[0;31m \u001b[0mprint\u001b[0m\u001b[0;34m(\u001b[0m\u001b[0mcurrent_state\u001b[0m\u001b[0;34m)\u001b[0m\u001b[0;34m\u001b[0m\u001b[0;34m\u001b[0m\u001b[0m\n\u001b[0m",
      "\u001b[0;31mNameError\u001b[0m: name 'current_state' is not defined"
     ]
    }
   ],
   "source": [
    "print(current_state)"
   ]
  },
  {
   "cell_type": "code",
   "execution_count": null,
   "metadata": {},
   "outputs": [],
   "source": []
  }
 ],
 "metadata": {
  "kernelspec": {
   "display_name": "Python 3",
   "language": "python",
   "name": "python3"
  },
  "language_info": {
   "codemirror_mode": {
    "name": "ipython",
    "version": 3
   },
   "file_extension": ".py",
   "mimetype": "text/x-python",
   "name": "python",
   "nbconvert_exporter": "python",
   "pygments_lexer": "ipython3",
   "version": "3.8.5"
  }
 },
 "nbformat": 4,
 "nbformat_minor": 4
}
